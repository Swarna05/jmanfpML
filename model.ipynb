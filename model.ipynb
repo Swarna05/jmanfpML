{
 "cells": [
  {
   "cell_type": "markdown",
   "metadata": {},
   "source": [
    "# Importing modules"
   ]
  },
  {
   "cell_type": "code",
   "execution_count": 6,
   "metadata": {},
   "outputs": [],
   "source": [
    "import pandas as pd\n",
    "from sklearn.feature_extraction.text import TfidfVectorizer\n",
    "from sklearn.metrics.pairwise import cosine_similarity\n",
    "import nltk\n",
    "from nltk.corpus import stopwords\n",
    "from nltk.tokenize import word_tokenize\n",
    "from nltk.stem import WordNetLemmatizer\n",
    "import numpy as np"
   ]
  },
  {
   "cell_type": "markdown",
   "metadata": {},
   "source": [
    "# Download NLTK resources"
   ]
  },
  {
   "cell_type": "code",
   "execution_count": 10,
   "metadata": {},
   "outputs": [
    {
     "name": "stderr",
     "output_type": "stream",
     "text": [
      "[nltk_data] Downloading package punkt to\n",
      "[nltk_data]     C:\\Users\\SwarnadeepPramanik\\AppData\\Roaming\\nltk_data.\n",
      "[nltk_data]     ..\n",
      "[nltk_data]   Unzipping tokenizers\\punkt.zip.\n",
      "[nltk_data] Downloading package stopwords to\n",
      "[nltk_data]     C:\\Users\\SwarnadeepPramanik\\AppData\\Roaming\\nltk_data.\n",
      "[nltk_data]     ..\n",
      "[nltk_data]   Unzipping corpora\\stopwords.zip.\n",
      "[nltk_data] Downloading package wordnet to\n",
      "[nltk_data]     C:\\Users\\SwarnadeepPramanik\\AppData\\Roaming\\nltk_data.\n",
      "[nltk_data]     ..\n"
     ]
    },
    {
     "data": {
      "text/plain": [
       "True"
      ]
     },
     "execution_count": 10,
     "metadata": {},
     "output_type": "execute_result"
    }
   ],
   "source": [
    "# Download NLTK.resources\n",
    "nltk.download('punkt')\n",
    "nltk.download('stopwords')\n",
    "nltk.download('wordnet')\n"
   ]
  },
  {
   "cell_type": "code",
   "execution_count": 11,
   "metadata": {},
   "outputs": [],
   "source": [
    "df = pd.read_csv('ML_Data_Ready.csv')"
   ]
  },
  {
   "cell_type": "code",
   "execution_count": 12,
   "metadata": {},
   "outputs": [],
   "source": [
    "stop_words = set(stopwords.words('english'))\n",
    "lemmatizer = WordNetLemmatizer()"
   ]
  },
  {
   "cell_type": "markdown",
   "metadata": {},
   "source": [
    "# Text Processing"
   ]
  },
  {
   "cell_type": "code",
   "execution_count": 13,
   "metadata": {},
   "outputs": [],
   "source": [
    "def preprocess_text(text):\n",
    "    # Tokenization\n",
    "    tokens = word_tokenize(text.lower())\n",
    "    # Remove stopwords\n",
    "    tokens = [token for token in tokens if token not in stop_words]\n",
    "    \n",
    "    # Lemmatization\n",
    "    tokens = [lemmatizer.lemmatize(token) for token in tokens]\n",
    "    return ' '.join(tokens)\n"
   ]
  },
  {
   "cell_type": "code",
   "execution_count": 14,
   "metadata": {},
   "outputs": [
    {
     "data": {
      "text/html": [
       "<div>\n",
       "<style scoped>\n",
       "    .dataframe tbody tr th:only-of-type {\n",
       "        vertical-align: middle;\n",
       "    }\n",
       "\n",
       "    .dataframe tbody tr th {\n",
       "        vertical-align: top;\n",
       "    }\n",
       "\n",
       "    .dataframe thead th {\n",
       "        text-align: right;\n",
       "    }\n",
       "</style>\n",
       "<table border=\"1\" class=\"dataframe\">\n",
       "  <thead>\n",
       "    <tr style=\"text-align: right;\">\n",
       "      <th></th>\n",
       "      <th>USER_ID</th>\n",
       "      <th>FULL_NAME</th>\n",
       "      <th>text</th>\n",
       "    </tr>\n",
       "  </thead>\n",
       "  <tbody>\n",
       "    <tr>\n",
       "      <th>0</th>\n",
       "      <td>169</td>\n",
       "      <td>Maximo McCauley</td>\n",
       "      <td>CyberSphere Building a recommendation engine b...</td>\n",
       "    </tr>\n",
       "    <tr>\n",
       "      <th>1</th>\n",
       "      <td>169</td>\n",
       "      <td>Maximo McCauley</td>\n",
       "      <td>DataBlast Designing a decentralized social med...</td>\n",
       "    </tr>\n",
       "    <tr>\n",
       "      <th>2</th>\n",
       "      <td>169</td>\n",
       "      <td>Maximo McCauley</td>\n",
       "      <td>ByteGenius Designing a decentralized content d...</td>\n",
       "    </tr>\n",
       "    <tr>\n",
       "      <th>3</th>\n",
       "      <td>158</td>\n",
       "      <td>Kania Haggus</td>\n",
       "      <td>CodeCraft Building a blockchain-based decentra...</td>\n",
       "    </tr>\n",
       "    <tr>\n",
       "      <th>4</th>\n",
       "      <td>158</td>\n",
       "      <td>Kania Haggus</td>\n",
       "      <td>CodeCraft Building a blockchain-based decentra...</td>\n",
       "    </tr>\n",
       "  </tbody>\n",
       "</table>\n",
       "</div>"
      ],
      "text/plain": [
       "   USER_ID        FULL_NAME                                               text\n",
       "0      169  Maximo McCauley  CyberSphere Building a recommendation engine b...\n",
       "1      169  Maximo McCauley  DataBlast Designing a decentralized social med...\n",
       "2      169  Maximo McCauley  ByteGenius Designing a decentralized content d...\n",
       "3      158     Kania Haggus  CodeCraft Building a blockchain-based decentra...\n",
       "4      158     Kania Haggus  CodeCraft Building a blockchain-based decentra..."
      ]
     },
     "execution_count": 14,
     "metadata": {},
     "output_type": "execute_result"
    }
   ],
   "source": [
    "df.head()"
   ]
  },
  {
   "cell_type": "code",
   "execution_count": 15,
   "metadata": {},
   "outputs": [],
   "source": [
    "df['preprocessed_text'] = df['text'].apply(preprocess_text)"
   ]
  },
  {
   "cell_type": "code",
   "execution_count": 16,
   "metadata": {},
   "outputs": [
    {
     "data": {
      "text/html": [
       "<div>\n",
       "<style scoped>\n",
       "    .dataframe tbody tr th:only-of-type {\n",
       "        vertical-align: middle;\n",
       "    }\n",
       "\n",
       "    .dataframe tbody tr th {\n",
       "        vertical-align: top;\n",
       "    }\n",
       "\n",
       "    .dataframe thead th {\n",
       "        text-align: right;\n",
       "    }\n",
       "</style>\n",
       "<table border=\"1\" class=\"dataframe\">\n",
       "  <thead>\n",
       "    <tr style=\"text-align: right;\">\n",
       "      <th></th>\n",
       "      <th>USER_ID</th>\n",
       "      <th>FULL_NAME</th>\n",
       "      <th>text</th>\n",
       "      <th>preprocessed_text</th>\n",
       "    </tr>\n",
       "  </thead>\n",
       "  <tbody>\n",
       "    <tr>\n",
       "      <th>0</th>\n",
       "      <td>169</td>\n",
       "      <td>Maximo McCauley</td>\n",
       "      <td>CyberSphere Building a recommendation engine b...</td>\n",
       "      <td>cybersphere building recommendation engine bas...</td>\n",
       "    </tr>\n",
       "    <tr>\n",
       "      <th>1</th>\n",
       "      <td>169</td>\n",
       "      <td>Maximo McCauley</td>\n",
       "      <td>DataBlast Designing a decentralized social med...</td>\n",
       "      <td>datablast designing decentralized social mediu...</td>\n",
       "    </tr>\n",
       "    <tr>\n",
       "      <th>2</th>\n",
       "      <td>169</td>\n",
       "      <td>Maximo McCauley</td>\n",
       "      <td>ByteGenius Designing a decentralized content d...</td>\n",
       "      <td>bytegenius designing decentralized content del...</td>\n",
       "    </tr>\n",
       "    <tr>\n",
       "      <th>3</th>\n",
       "      <td>158</td>\n",
       "      <td>Kania Haggus</td>\n",
       "      <td>CodeCraft Building a blockchain-based decentra...</td>\n",
       "      <td>codecraft building blockchain-based decentrali...</td>\n",
       "    </tr>\n",
       "    <tr>\n",
       "      <th>4</th>\n",
       "      <td>158</td>\n",
       "      <td>Kania Haggus</td>\n",
       "      <td>CodeCraft Building a blockchain-based decentra...</td>\n",
       "      <td>codecraft building blockchain-based decentrali...</td>\n",
       "    </tr>\n",
       "    <tr>\n",
       "      <th>...</th>\n",
       "      <td>...</td>\n",
       "      <td>...</td>\n",
       "      <td>...</td>\n",
       "      <td>...</td>\n",
       "    </tr>\n",
       "    <tr>\n",
       "      <th>735</th>\n",
       "      <td>424</td>\n",
       "      <td>Loydie Wych</td>\n",
       "      <td>HTML/CSS Intermediate</td>\n",
       "      <td>html/css intermediate</td>\n",
       "    </tr>\n",
       "    <tr>\n",
       "      <th>736</th>\n",
       "      <td>509</td>\n",
       "      <td>Karen Seckington</td>\n",
       "      <td>Ruby on Rails Intermediate</td>\n",
       "      <td>ruby rail intermediate</td>\n",
       "    </tr>\n",
       "    <tr>\n",
       "      <th>737</th>\n",
       "      <td>179</td>\n",
       "      <td>Swen Yarrington</td>\n",
       "      <td>CodeNest Building a collaborative project mana...</td>\n",
       "      <td>codenest building collaborative project manage...</td>\n",
       "    </tr>\n",
       "    <tr>\n",
       "      <th>738</th>\n",
       "      <td>254</td>\n",
       "      <td>Hinze Teresi</td>\n",
       "      <td>CodeCraft Designing a decentralized finance (D...</td>\n",
       "      <td>codecraft designing decentralized finance ( de...</td>\n",
       "    </tr>\n",
       "    <tr>\n",
       "      <th>739</th>\n",
       "      <td>254</td>\n",
       "      <td>Hinze Teresi</td>\n",
       "      <td>DigitalDynamics Implementing a decentralized i...</td>\n",
       "      <td>digitaldynamics implementing decentralized ide...</td>\n",
       "    </tr>\n",
       "  </tbody>\n",
       "</table>\n",
       "<p>740 rows × 4 columns</p>\n",
       "</div>"
      ],
      "text/plain": [
       "     USER_ID         FULL_NAME  \\\n",
       "0        169   Maximo McCauley   \n",
       "1        169   Maximo McCauley   \n",
       "2        169   Maximo McCauley   \n",
       "3        158      Kania Haggus   \n",
       "4        158      Kania Haggus   \n",
       "..       ...               ...   \n",
       "735      424       Loydie Wych   \n",
       "736      509  Karen Seckington   \n",
       "737      179   Swen Yarrington   \n",
       "738      254      Hinze Teresi   \n",
       "739      254      Hinze Teresi   \n",
       "\n",
       "                                                  text  \\\n",
       "0    CyberSphere Building a recommendation engine b...   \n",
       "1    DataBlast Designing a decentralized social med...   \n",
       "2    ByteGenius Designing a decentralized content d...   \n",
       "3    CodeCraft Building a blockchain-based decentra...   \n",
       "4    CodeCraft Building a blockchain-based decentra...   \n",
       "..                                                 ...   \n",
       "735                              HTML/CSS Intermediate   \n",
       "736                         Ruby on Rails Intermediate   \n",
       "737  CodeNest Building a collaborative project mana...   \n",
       "738  CodeCraft Designing a decentralized finance (D...   \n",
       "739  DigitalDynamics Implementing a decentralized i...   \n",
       "\n",
       "                                     preprocessed_text  \n",
       "0    cybersphere building recommendation engine bas...  \n",
       "1    datablast designing decentralized social mediu...  \n",
       "2    bytegenius designing decentralized content del...  \n",
       "3    codecraft building blockchain-based decentrali...  \n",
       "4    codecraft building blockchain-based decentrali...  \n",
       "..                                                 ...  \n",
       "735                              html/css intermediate  \n",
       "736                             ruby rail intermediate  \n",
       "737  codenest building collaborative project manage...  \n",
       "738  codecraft designing decentralized finance ( de...  \n",
       "739  digitaldynamics implementing decentralized ide...  \n",
       "\n",
       "[740 rows x 4 columns]"
      ]
     },
     "execution_count": 16,
     "metadata": {},
     "output_type": "execute_result"
    }
   ],
   "source": [
    "df"
   ]
  },
  {
   "cell_type": "markdown",
   "metadata": {},
   "source": [
    "# Vectorization & Model"
   ]
  },
  {
   "cell_type": "code",
   "execution_count": 18,
   "metadata": {},
   "outputs": [],
   "source": [
    "# Vectorization\n",
    "vectorizer = TfidfVectorizer()\n",
    "text_vectors = vectorizer.fit_transform(df['preprocessed_text'])\n"
   ]
  },
  {
   "cell_type": "code",
   "execution_count": 19,
   "metadata": {},
   "outputs": [],
   "source": [
    "def find_most_similar_indices_with_scores(string, vectorizer, text_vectors, k=5):\n",
    "    # Vectorize the new string\n",
    "    string_vector = vectorizer.transform([string])\n",
    "\n",
    "    # Calculate cosine similarity between the new string vector and existing text vectors\n",
    "    cosine_similarities = cosine_similarity(string_vector, text_vectors).flatten()\n",
    "\n",
    "    # Find the indices of the top k most similar texts\n",
    "    top_indices = cosine_similarities.argsort()[-k:][::-1]\n",
    "\n",
    "    # Get the corresponding cosine similarity scores\n",
    "    similarity_scores = cosine_similarities[top_indices]\n",
    "\n",
    "    return top_indices, similarity_scores"
   ]
  },
  {
   "cell_type": "markdown",
   "metadata": {},
   "source": [
    "# NLP Testing"
   ]
  },
  {
   "cell_type": "code",
   "execution_count": 20,
   "metadata": {},
   "outputs": [
    {
     "data": {
      "text/plain": [
       "(array([203, 366, 142, 207, 172], dtype=int64),\n",
       " array([0.47694247, 0.47499496, 0.47284904, 0.43332297, 0.38445572]))"
      ]
     },
     "execution_count": 20,
     "metadata": {},
     "output_type": "execute_result"
    }
   ],
   "source": [
    "text_input = \"data governance\"\n",
    "find_most_similar_indices_with_scores(text_input,vectorizer,text_vectors)"
   ]
  },
  {
   "cell_type": "code",
   "execution_count": 21,
   "metadata": {},
   "outputs": [
    {
     "data": {
      "text/plain": [
       "'Rey Polkinghorne'"
      ]
     },
     "execution_count": 21,
     "metadata": {},
     "output_type": "execute_result"
    }
   ],
   "source": [
    "df.iloc[203]['FULL_NAME']"
   ]
  },
  {
   "cell_type": "code",
   "execution_count": null,
   "metadata": {},
   "outputs": [],
   "source": []
  }
 ],
 "metadata": {
  "kernelspec": {
   "display_name": "Python 3",
   "language": "python",
   "name": "python3"
  },
  "language_info": {
   "codemirror_mode": {
    "name": "ipython",
    "version": 3
   },
   "file_extension": ".py",
   "mimetype": "text/x-python",
   "name": "python",
   "nbconvert_exporter": "python",
   "pygments_lexer": "ipython3",
   "version": "3.10.0"
  }
 },
 "nbformat": 4,
 "nbformat_minor": 2
}
